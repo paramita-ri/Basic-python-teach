{
  "nbformat": 4,
  "nbformat_minor": 0,
  "metadata": {
    "colab": {
      "provenance": [],
      "authorship_tag": "ABX9TyPbljn0RO1HCjbc0z7LJUr3",
      "include_colab_link": true
    },
    "kernelspec": {
      "name": "python3",
      "display_name": "Python 3"
    },
    "language_info": {
      "name": "python"
    }
  },
  "cells": [
    {
      "cell_type": "markdown",
      "metadata": {
        "id": "view-in-github",
        "colab_type": "text"
      },
      "source": [
        "<a href=\"https://colab.research.google.com/github/paramita-ri/Basic-python-teach/blob/main/Basic_Python101.ipynb\" target=\"_parent\"><img src=\"https://colab.research.google.com/assets/colab-badge.svg\" alt=\"Open In Colab\"/></a>"
      ]
    },
    {
      "cell_type": "code",
      "execution_count": null,
      "metadata": {
        "colab": {
          "base_uri": "https://localhost:8080/"
        },
        "id": "1BE8nZ95dWdY",
        "outputId": "8aee0234-f051-4d26-d33d-b4311d290fab"
      },
      "outputs": [
        {
          "output_type": "stream",
          "name": "stdout",
          "text": [
            "Hello word\n"
          ]
        }
      ],
      "source": [
        "print(\"Hello word\")"
      ]
    },
    {
      "cell_type": "code",
      "source": [
        "name = \"Punn\"\n",
        "age = 20\n",
        "height = 154.25\n",
        "b_false = False\n",
        "inform = [name, age, height, b_false]\n",
        "print(inform)\n",
        "type(height)\n",
        "print(f\"My name is {name}\\nI'm {age} years old\\nMy height ia {height:.4f}\")"
      ],
      "metadata": {
        "colab": {
          "base_uri": "https://localhost:8080/"
        },
        "id": "uJZ56Zqjfdpe",
        "outputId": "ff1047d0-5e0d-4fd1-d740-07b2481a65ed"
      },
      "execution_count": null,
      "outputs": [
        {
          "output_type": "stream",
          "name": "stdout",
          "text": [
            "['Punn', 20, 154.25, False]\n",
            "My name is Punn\n",
            "I'm 20 years old\n",
            "My height ia 154.2500\n"
          ]
        }
      ]
    },
    {
      "cell_type": "code",
      "source": [
        "base = float(input(\"Enter base:\"))\n",
        "height = float(input(\"Enter height:\"))\n",
        "\n",
        "area = base * height\n",
        "\n",
        "print(f\"A rectangle with a base length of {base:.3f} and a height of {height:.3f} has an area of {area:.3f}\")\n",
        "\n",
        "base += 3\n",
        "height -= 1\n",
        "area2 = base * height\n",
        "\n",
        "print(f\"New area is {area2:.3f}\")"
      ],
      "metadata": {
        "colab": {
          "base_uri": "https://localhost:8080/"
        },
        "id": "FMfKjPobknWY",
        "outputId": "da0b788e-8ae1-453b-cd0f-40ef30aa5412"
      },
      "execution_count": null,
      "outputs": [
        {
          "output_type": "stream",
          "name": "stdout",
          "text": [
            "Enter base:1.000\n",
            "Enter height:5.000\n",
            "A rectangle with a base length of 1.000 and a height of 5.000 has an area of 5.000\n",
            "New area is 16.000\n"
          ]
        }
      ]
    },
    {
      "cell_type": "code",
      "source": [
        "score = int(input())\n",
        "if score > 80:\n",
        "  print(\"G\")\n",
        "elif score > 60:\n",
        "  print(\"P\")\n",
        "else:\n",
        "  print(\"F\")"
      ],
      "metadata": {
        "colab": {
          "base_uri": "https://localhost:8080/"
        },
        "id": "IFxlv-cAn4Nv",
        "outputId": "73a99a83-6f07-484e-82b7-51eadd29d99b"
      },
      "execution_count": null,
      "outputs": [
        {
          "output_type": "stream",
          "name": "stdout",
          "text": [
            "70\n",
            "P\n"
          ]
        }
      ]
    },
    {
      "cell_type": "code",
      "source": [
        "letter = input(\"Enter A-C\")\n",
        "if letter == \"A\" and letter == \"a\":\n",
        "  print(\"Ant\")\n",
        "elif letter == \"B\":\n",
        "  print(\"Bird\")\n",
        "else:\n",
        "  print(\"cat\")"
      ],
      "metadata": {
        "colab": {
          "base_uri": "https://localhost:8080/"
        },
        "id": "ImUiAccepPzd",
        "outputId": "f4663099-8dc9-46dd-9b1d-7f11d151e4e5"
      },
      "execution_count": null,
      "outputs": [
        {
          "output_type": "stream",
          "name": "stdout",
          "text": [
            "Enter A-Ca\n",
            "cat\n"
          ]
        }
      ]
    },
    {
      "cell_type": "code",
      "source": [
        "num1 = float(input(\"Entr number 1:\"))\n",
        "num2 = float(input(\"Entr number 2:\"))\n",
        "\n",
        "operator = input(\"Enter opertor +,-,*,/ :\")\n",
        "result = 0\n",
        "\n",
        "if operator == \"+\":\n",
        "  result = num1 + num2\n",
        "elif operator == \"-\":\n",
        "  result = num1 - num2\n",
        "elif operator == \"*\":\n",
        "  result = num1 * num2\n",
        "else:\n",
        "  if num2 == 0:\n",
        "    print(\"cannot divided\")\n",
        "  else:\n",
        "    result = num1 / num2\n",
        "print(f\"The result of {num1} {operator} {num2} is {result}\")"
      ],
      "metadata": {
        "colab": {
          "base_uri": "https://localhost:8080/"
        },
        "id": "xRcrZaxQqp0L",
        "outputId": "7db53df2-c026-4125-f186-97b04d4b1857"
      },
      "execution_count": null,
      "outputs": [
        {
          "output_type": "stream",
          "name": "stdout",
          "text": [
            "Entr number 1:6\n",
            "Entr number 2:0\n",
            "Enter opertor +,-,*,/ :/\n",
            "cannot divided\n",
            "The result of 6.0 / 0.0 is 0\n"
          ]
        }
      ]
    },
    {
      "cell_type": "code",
      "source": [
        "#for-loop\n",
        "'''\n",
        "for num in range(5):\n",
        "  print(num)\n",
        "'''\n",
        "sum = 1\n",
        "for num in range(1, 8):\n",
        "  sum *= num\n",
        "  print(sum)"
      ],
      "metadata": {
        "colab": {
          "base_uri": "https://localhost:8080/"
        },
        "id": "tDn-lG1tzlvH",
        "outputId": "fd96f55b-b213-4751-c682-04e648c6635d"
      },
      "execution_count": null,
      "outputs": [
        {
          "output_type": "stream",
          "name": "stdout",
          "text": [
            "1\n",
            "2\n",
            "6\n",
            "24\n",
            "120\n",
            "720\n",
            "5040\n"
          ]
        }
      ]
    },
    {
      "cell_type": "code",
      "source": [
        "pets = [\"cat\", \"dog\", \"chicken\"]\n",
        "for e in pets:\n",
        "  print(f\"I eat {e}\")"
      ],
      "metadata": {
        "colab": {
          "base_uri": "https://localhost:8080/"
        },
        "id": "586INWWd1P3z",
        "outputId": "b2aff03b-1059-4045-91bc-727c75812f11"
      },
      "execution_count": null,
      "outputs": [
        {
          "output_type": "stream",
          "name": "stdout",
          "text": [
            "I eat cat\n",
            "I eat dog\n",
            "I eat chicken\n"
          ]
        }
      ]
    },
    {
      "cell_type": "code",
      "source": [
        "i = 1\n",
        "sum = 0\n",
        "while i <= 5:\n",
        "  sum += i\n",
        "  i += 1\n",
        "print(sum)"
      ],
      "metadata": {
        "colab": {
          "base_uri": "https://localhost:8080/"
        },
        "id": "A6AVHJfx1s5V",
        "outputId": "8dcc4ca8-634c-45f6-9e0b-d41377944344"
      },
      "execution_count": null,
      "outputs": [
        {
          "output_type": "stream",
          "name": "stdout",
          "text": [
            "15\n"
          ]
        }
      ]
    },
    {
      "cell_type": "code",
      "source": [
        "limit = int(input(\"Enter limit:\"))\n",
        "number = 0\n",
        "\n",
        "while number < limit:\n",
        "  number += 1\n",
        "  if number % 2 != 0:\n",
        "    continue\n",
        "  print(f\"Even Num is {number}\")"
      ],
      "metadata": {
        "colab": {
          "base_uri": "https://localhost:8080/"
        },
        "id": "karfe9yB2wea",
        "outputId": "7d06868d-1ce0-46e3-e034-1742a9e6593f"
      },
      "execution_count": null,
      "outputs": [
        {
          "output_type": "stream",
          "name": "stdout",
          "text": [
            "Enter limit:10\n",
            "Even Num is 2\n",
            "Even Num is 4\n",
            "Even Num is 6\n",
            "Even Num is 8\n",
            "Even Num is 10\n"
          ]
        }
      ]
    },
    {
      "cell_type": "code",
      "source": [
        "sum = 0\n",
        "n = 0\n",
        "while True:\n",
        "  x = int(input(\"Enter positive integer (Enter -1 to end)\"))\n",
        "  if x == -1:\n",
        "    break\n",
        "  else:\n",
        "    sum += x\n",
        "    n += 1\n",
        "print(f\"Avg = {sum/n}\")"
      ],
      "metadata": {
        "colab": {
          "base_uri": "https://localhost:8080/"
        },
        "id": "N4xzxStg3yS3",
        "outputId": "1cbb8d8e-4644-401d-ab74-f3397bcb7ca4"
      },
      "execution_count": null,
      "outputs": [
        {
          "output_type": "stream",
          "name": "stdout",
          "text": [
            "Enter positive integer (Enter -1 to end)1\n",
            "Enter positive integer (Enter -1 to end)2\n",
            "Enter positive integer (Enter -1 to end)3\n",
            "Enter positive integer (Enter -1 to end)4\n",
            "Enter positive integer (Enter -1 to end)5\n",
            "Enter positive integer (Enter -1 to end)-1\n",
            "Avg = 3.0\n"
          ]
        }
      ]
    },
    {
      "cell_type": "code",
      "source": [
        "pets = [\"monkey\", \"cat\", \"dog\"]\n",
        "\n",
        "for pet in pets:\n",
        "  if pet == \"monkey\":\n",
        "    continue\n",
        "  print(\"I love \", pet)"
      ],
      "metadata": {
        "colab": {
          "base_uri": "https://localhost:8080/"
        },
        "id": "HyPPcZEm5Xlg",
        "outputId": "fda00b0c-7662-4fab-8a0e-ef66939e0d6b"
      },
      "execution_count": null,
      "outputs": [
        {
          "output_type": "stream",
          "name": "stdout",
          "text": [
            "I love  cat\n",
            "I love  dog\n"
          ]
        }
      ]
    },
    {
      "cell_type": "code",
      "source": [
        "import random\n",
        "\n",
        "print(\"Welcome to guess Number Game\")\n",
        "print(\"Try to guess Number 1 - 100\")\n",
        "\n",
        "round = 0\n",
        "max_round = 5\n",
        "secret_Number = random.randint(1, 100)\n",
        "\n",
        "while round < max_round:\n",
        "  num_user = int(input(\"Enter Number\"))\n",
        "\n",
        "  if num_user == secret_Number:\n",
        "    print(f\"correct Number is {secret_Number}\")\n",
        "  elif num_user < secret_Number:\n",
        "    print(\"incorrect ,too low\")\n",
        "  else:\n",
        "    print(\"incorrect ,too high\")\n",
        "  round += 1\n",
        "\n",
        "if round == max_round:\n",
        "  print(\"sorry, it end the secret number is\", secret_Number)"
      ],
      "metadata": {
        "colab": {
          "base_uri": "https://localhost:8080/"
        },
        "id": "2rMwdVkc5sum",
        "outputId": "189f41d5-5171-4d7c-d6d1-48fb3341ff8d"
      },
      "execution_count": null,
      "outputs": [
        {
          "output_type": "stream",
          "name": "stdout",
          "text": [
            "Welcome to guess Number Game\n",
            "Try to guess Number 1 - 100\n",
            "Enter Number50\n",
            "incorrect ,too low\n",
            "Enter Number75\n",
            "incorrect ,too low\n",
            "Enter Number85\n",
            "incorrect ,too low\n",
            "Enter Number90\n",
            "incorrect ,too high\n",
            "Enter Number87\n",
            "incorrect ,too low\n",
            "sorry, it end the secret number is 88\n"
          ]
        }
      ]
    },
    {
      "cell_type": "code",
      "source": [
        "def say_hi(name):\n",
        "  print(f\"Hi! {name}\")\n",
        "\n",
        "k = \"ken\"\n",
        "for i in range(21):\n",
        "  say_hi(k)\n",
        "  say_hi(\"barbie\")"
      ],
      "metadata": {
        "id": "gO_bcOXp9cQs"
      },
      "execution_count": null,
      "outputs": []
    },
    {
      "cell_type": "code",
      "source": [
        "def area_triangle(base, high):\n",
        "    area = 0.5 * base * high\n",
        "    return area\n",
        "\n",
        "area_tri = area_triangle(5, 3)\n",
        "print(area_tri)"
      ],
      "metadata": {
        "colab": {
          "base_uri": "https://localhost:8080/"
        },
        "id": "2VfFQUvH-mXv",
        "outputId": "fc58d8dc-a7a0-44aa-9637-eab9ca00ced7"
      },
      "execution_count": null,
      "outputs": [
        {
          "output_type": "stream",
          "name": "stdout",
          "text": [
            "7.5\n"
          ]
        }
      ]
    }
  ]
}