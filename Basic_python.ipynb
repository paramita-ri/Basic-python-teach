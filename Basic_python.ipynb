{
  "nbformat": 4,
  "nbformat_minor": 0,
  "metadata": {
    "colab": {
      "provenance": [],
      "authorship_tag": "ABX9TyMdVrweQ10hSk9gUjO1iZxL",
      "include_colab_link": true
    },
    "kernelspec": {
      "name": "python3",
      "display_name": "Python 3"
    },
    "language_info": {
      "name": "python"
    }
  },
  "cells": [
    {
      "cell_type": "markdown",
      "metadata": {
        "id": "view-in-github",
        "colab_type": "text"
      },
      "source": [
        "<a href=\"https://colab.research.google.com/github/paramita-ri/Basic-python-teach/blob/main/Basic_python.ipynb\" target=\"_parent\"><img src=\"https://colab.research.google.com/assets/colab-badge.svg\" alt=\"Open In Colab\"/></a>"
      ]
    },
    {
      "cell_type": "markdown",
      "source": [
        "**Naming Variables**\n",
        "---\n",
        "       Example\n",
        "       ✅\n",
        "       - Name = \"Josh\"\n",
        "       - _age = 23\n",
        "       - address01 = \"London, UK\"\n",
        "       ❌\n",
        "       - 01Num = 4\n",
        "       - Name$$ = \"dollar\"\n",
        "       - Number age = 20"
      ],
      "metadata": {
        "id": "T6fTUQXh2dTT"
      }
    },
    {
      "cell_type": "markdown",
      "source": [
        "\n",
        "> **Data types** <br>\n",
        "**Exercise_01** <br>\n",
        "Creat variable and convert variable type <br>\n",
        "-Variable that collect your name in string <br>\n",
        "-Variable that collect your age in integer<br>\n",
        "-Variable that collect your height in float<br>\n",
        "-Variable that collect boolean False <br>\n",
        "-Convert your age to string<br>\n",
        "-Convert your height to integer\n",
        "\n",
        "\n"
      ],
      "metadata": {
        "id": "bfh84V9NSBi2"
      }
    },
    {
      "cell_type": "code",
      "source": [
        "#problems\n",
        "name = \"Paramita Ritidet\"\n",
        "age = str(20)\n",
        "height = 154.25\n",
        "bool_False = False\n",
        "information = [name, age, height, bool_False]\n",
        "\n",
        "type(age)\n",
        "print(information)\n",
        "print(f\"My name is {name} \\nI'm {age} Year old \\nMy height is {height:.3f}\")"
      ],
      "metadata": {
        "id": "f8LwZNlcS-q0"
      },
      "execution_count": null,
      "outputs": []
    },
    {
      "cell_type": "markdown",
      "source": [
        "**Print() & input()**\n",
        "\n",
        "\n",
        "\n"
      ],
      "metadata": {
        "id": "etukaSudSUss"
      }
    },
    {
      "cell_type": "code",
      "source": [
        "#exercise\n",
        "print('Rat')\n",
        "print(5)\n",
        "print(4-6)\n",
        "y = 2\n",
        "print(y)\n",
        "x = 1\n",
        "print(x, \" + \", y, \" = \" , x + y)"
      ],
      "metadata": {
        "id": "jKiGriY5S8Dy"
      },
      "execution_count": null,
      "outputs": []
    },
    {
      "cell_type": "markdown",
      "source": [
        "**Operator** <br>\n",
        "**Exercise_02**<br>\n",
        "1.Write a program to calculate the area of a rectangle by receiving input <br>\n",
        "values for the length of the base and the height of the rectangle. Then,<br>\n",
        "calculate the  area and display the result as the text :<br>\n",
        "“A rectangle with a base length of x and a height of y has an area of z.”<br>\n",
        "2.Increase the length of the base by 3 and decrease the height by 1. Then, <br>\n",
        "calculate the new area and display the result as the text :<br>\n",
        "'The area of the new rectangle is Z2'.<br>\n"
      ],
      "metadata": {
        "id": "bmyJuRDtTQF7"
      }
    },
    {
      "cell_type": "code",
      "source": [
        "#exercise\n",
        "print(3 + 3 * 6 - 2 ** 5) # 2^5 = 32\n",
        "print((3 + 3) * (6 - 2) ** 5)\n",
        "x = 55\n",
        "print(x)\n",
        "x -= 6\n",
        "print(x)\n",
        "x **= 2\n",
        "print(x)\n",
        "print((4 > 3) and (2 == 1))\n",
        "print(not(5>6))"
      ],
      "metadata": {
        "id": "J2VNEH7ETirI"
      },
      "execution_count": null,
      "outputs": []
    },
    {
      "cell_type": "code",
      "source": [
        "#problems\n",
        "\n",
        "length = float(input(\"Enter the length of the rectangle: \"))\n",
        "width = float(input(\"Enter the width of the rectangle: \"))\n",
        "area = length * width\n",
        "\n",
        "print(f\"A rectangle with a base length of {length} and a height of {width} has an area of {area}\")\n",
        "\n",
        "length += 3\n",
        "width -= 1\n",
        "area = length * width\n",
        "\n",
        "print(f\"The area of the new rectangle is {area}\")"
      ],
      "metadata": {
        "id": "QXSlDX2PTkmL"
      },
      "execution_count": null,
      "outputs": []
    },
    {
      "cell_type": "markdown",
      "source": [
        "**If-else** <br>\n",
        "**Exercise_02** <br>\n",
        "Simple Calculator <br>\n",
        "Write a Python program that acts as a simple calculator.  <br>\n",
        "The program should perform the following operations: <br>\n",
        "  1.Addition <br>\n",
        "  2.Subtraction <br>\n",
        "  3.Multiplication <br>\n",
        "  4.Division <br>\n",
        "The program should ask the user to enter two numbers and  <br>\n",
        "an operator (‘+’, ‘-‘, ‘*’, ‘/’).  <br>\n",
        "Based on the operator entered, the program should perform  <br>\n",
        "the corresponding operation and display the result. <br>"
      ],
      "metadata": {
        "id": "Phl3UDbjTz4x"
      }
    },
    {
      "cell_type": "code",
      "source": [
        "#exercise\n",
        "score = float(input(\"Enter your score:\"))\n",
        "if score > 80:\n",
        "  print(\"Great\")\n",
        "elif score > 60:\n",
        "  print(\"Pass\")\n",
        "else:\n",
        "  print(\"Fail\")"
      ],
      "metadata": {
        "id": "RqzAAz-9TsOt"
      },
      "execution_count": null,
      "outputs": []
    },
    {
      "cell_type": "code",
      "source": [
        "capital = input(\"Enter A-E:\")\n",
        "if capital == 'A':\n",
        "  print('Anne hathaway')\n"
      ],
      "metadata": {
        "id": "w3jdB81OjHLJ"
      },
      "execution_count": null,
      "outputs": []
    },
    {
      "cell_type": "code",
      "source": [
        "#problems\n",
        "num1 = float(input(\"Enter the first number: \"))\n",
        "num2 = float(input(\"Enter the second number: \"))\n",
        "\n",
        "operator = input(\"Enter the operator (+, -, *, /): \")\n",
        "result = 0\n",
        "\n",
        "if operator == '+':\n",
        "    result = num1 + num2\n",
        "elif operator == '-':\n",
        "    result = num1 - num2\n",
        "elif operator == '*':\n",
        "    result = num1 * num2\n",
        "elif operator == '/':\n",
        "    if num2 != 0:\n",
        "        result = num1 / num2\n",
        "    else:\n",
        "        print(\"Error: Division by zero is not allowed.\")\n",
        "\n",
        "print(f\"The result of {num1} {operator} {num2} is: {result}\")"
      ],
      "metadata": {
        "colab": {
          "base_uri": "https://localhost:8080/"
        },
        "id": "8rUG9SpxT6gO",
        "outputId": "116cba29-bd98-4aa1-ec58-d95292dbd270"
      },
      "execution_count": null,
      "outputs": [
        {
          "output_type": "stream",
          "name": "stdout",
          "text": [
            "Enter the first number: 2048\n",
            "Enter the second number: 2\n",
            "Enter the operator (+, -, *, /): /\n",
            "The result of 2048.0 / 2.0 is: 1024.0\n"
          ]
        }
      ]
    },
    {
      "cell_type": "markdown",
      "source": [
        "**Loops** <br>\n",
        "**Exercise**<br>\n",
        "**Using while-loops**<br>\n",
        "1.Write a program that generates a random number between 1 and 100. The user has<br> to guess the number, and the program should provide hints after each <br>guess. The game should have the following features:<br>\n",
        "The user has a maximum of 5 attempts to guess the correct number.<br>\n",
        "If the user guesses correctly, the program should congratulate them and end the<br> game.\n",
        "If the user runs out of attempts, the program should reveal the correct number and<br> end the game.\n",
        "After each incorrect guess, the program should provide a hint, <br>such as \"Too high\" or \"Too low.\""
      ],
      "metadata": {
        "id": "XwvnbuTNUP3X"
      }
    },
    {
      "cell_type": "code",
      "source": [
        "#exercise\n",
        "i = 0\n",
        "while i <= 5:\n",
        "  print(i)\n",
        "  i += 1"
      ],
      "metadata": {
        "id": "zXSpn_5yUO0z"
      },
      "execution_count": null,
      "outputs": []
    },
    {
      "cell_type": "code",
      "source": [
        "#for\n",
        "for i in range(1, 5):\n",
        "  print(i)\n",
        "for i in range(50, 60, 2):\n",
        "  print(i)"
      ],
      "metadata": {
        "id": "zuxzgprYmxZj"
      },
      "execution_count": null,
      "outputs": []
    },
    {
      "cell_type": "code",
      "source": [
        "sum = 1\n",
        "for i in range(1,8):\n",
        "  sum *= i\n",
        "print(sum)"
      ],
      "metadata": {
        "id": "qgqiOiSqoKef"
      },
      "execution_count": null,
      "outputs": []
    },
    {
      "cell_type": "code",
      "source": [
        "pets = [\"Cat\", \"Dog\", 'water moniter']\n",
        "for e in pets:\n",
        "  print(e)"
      ],
      "metadata": {
        "id": "eQear_0Ro9ET"
      },
      "execution_count": null,
      "outputs": []
    },
    {
      "cell_type": "code",
      "source": [
        "#continue\n",
        "limit = int(input(\"Enter the limit for even numbers: \"))\n",
        "number = 0\n",
        "\n",
        "while number < limit:\n",
        "    number += 1\n",
        "    if number % 2 != 0:\n",
        "        continue\n",
        "    print(\"Even number:\", number)\n"
      ],
      "metadata": {
        "id": "cLz32ZqpkzGR"
      },
      "execution_count": null,
      "outputs": []
    },
    {
      "cell_type": "code",
      "source": [
        "sum = 0\n",
        "n = 0\n",
        "while True:\n",
        "  x = int(input(\"Enter a positive number (Enter -1 to end):\"))\n",
        "  if x == -1:\n",
        "    break\n",
        "  else:\n",
        "    sum += x\n",
        "    n += 1\n",
        "print(f\"Average = {sum/n:.2f}\")"
      ],
      "metadata": {
        "id": "0_yQ635olrXc"
      },
      "execution_count": null,
      "outputs": []
    },
    {
      "cell_type": "code",
      "source": [
        "#problems2\n",
        "animals = ['dog', 'cat', 'turtle', 'tiger', 'elephant', 'monkey', 'crow', 'water moniter']\n",
        "\n",
        "for animal in animals:\n",
        "    if animal == 'water moniter' or animal == 'crow':\n",
        "      continue\n",
        "    print('I love', animal)\n"
      ],
      "metadata": {
        "id": "MPw4D24b7F7C"
      },
      "execution_count": null,
      "outputs": []
    },
    {
      "cell_type": "code",
      "source": [
        "#problems\n",
        "\n",
        "import random\n",
        "\n",
        "print(\"Welcome to the Number Guessing Game!\")\n",
        "print(\"Try to guess the secret number between 1 and 100.\")\n",
        "attempts = 0\n",
        "max_attempts = 5\n",
        "secret_number = random.randint(1, 100)\n",
        "\n",
        "while attempts < max_attempts:\n",
        "    user_guess = int(input(\"Enter your guess: \"))\n",
        "\n",
        "    if user_guess == secret_number:\n",
        "        print(\"Congratulations! You guessed the correct number:\", secret_number)\n",
        "        break\n",
        "    elif user_guess < secret_number:\n",
        "        print(\"Too low. Try again.\")\n",
        "    else:\n",
        "        print(\"Too high. Try again.\")\n",
        "\n",
        "    attempts += 1\n",
        "\n",
        "# If the user runs out of attempts, reveal the correct number\n",
        "if attempts == max_attempts:\n",
        "    print(\"Sorry, you've run out of attempts. The correct number was:\", secret_number)"
      ],
      "metadata": {
        "id": "3fIfKeijUUc-"
      },
      "execution_count": null,
      "outputs": []
    },
    {
      "cell_type": "markdown",
      "source": [
        "**Function**"
      ],
      "metadata": {
        "id": "0XXa9u0cUJt7"
      }
    },
    {
      "cell_type": "code",
      "source": [
        "#exercise\n",
        "def say_hi():\n",
        "  print(\"Hi!\")\n",
        "say_hi()\n",
        "\n",
        "def say_hi2(Name):\n",
        "  print(f\"Hi! {Name}\")\n",
        "\n",
        "k = \"ken\"\n",
        "for i in range(5):\n",
        "  say_hi2(\"Barbie\")\n",
        "  say_hi2(k)\n",
        "\n",
        "def area_triangle(b,h):\n",
        "  area = b * h * 0.5\n",
        "  return area\n",
        "\n",
        "area_tri = area_triangle(3,5)\n",
        "print(area_tri)"
      ],
      "metadata": {
        "id": "QhOY2hxDUH51"
      },
      "execution_count": null,
      "outputs": []
    },
    {
      "cell_type": "code",
      "source": [
        "#problems\n",
        "\n",
        "def playgame(round):\n",
        "  import random\n",
        "\n",
        "  attempts = 0\n",
        "  max_attempts = round\n",
        "  secret_number = random.randint(1, 100)\n",
        "\n",
        "  while attempts < max_attempts:\n",
        "      user_guess = int(input(\"Enter your guess: \"))\n",
        "\n",
        "      if user_guess == secret_number:\n",
        "          print(\"Congratulations! You guessed the correct number:\", secret_number)\n",
        "          return 1\n",
        "          break\n",
        "      elif user_guess < secret_number:\n",
        "          print(\"Too low. Try again.\")\n",
        "      else:\n",
        "          print(\"Too high. Try again.\")\n",
        "\n",
        "      attempts += 1\n",
        "  if attempts == max_attempts:\n",
        "    print(\"Sorry, you've run out of attempts. The correct number was:\", secret_number)\n",
        "    return 0\n",
        "\n",
        "print(\"Welcome to the Number Guessing Game!\")\n",
        "print(\"Try to guess the secret number between 1 and 100.\")\n",
        "round = int(input(\"Enter round that you want to guess(3, 5, 7):\"))\n",
        "cash = int(input(\"Enter you cash (1-500):\"))\n",
        "defaults = playgame(round)\n",
        "if defaults == 1:\n",
        "  if round == 3:\n",
        "    print(f\"You win {cash * 3.5} bath\")\n",
        "  elif round == 5:\n",
        "    print(f\"You win {cash * 2} bath\")\n",
        "  else:\n",
        "    print(f\"You win {cash * 1.5} bath\")\n",
        "else:\n",
        "  print(f\"You lost {cash} bath\")\n"
      ],
      "metadata": {
        "id": "i4cGqrohUJbM",
        "colab": {
          "base_uri": "https://localhost:8080/"
        },
        "outputId": "91f8fc2d-cb25-4191-cf4d-461d2593dcb7"
      },
      "execution_count": null,
      "outputs": [
        {
          "output_type": "stream",
          "name": "stdout",
          "text": [
            "Welcome to the Number Guessing Game!\n",
            "Try to guess the secret number between 1 and 100.\n",
            "Enter round that you want to guess(3, 5, 7):5\n",
            "Enter you cash (1-500):100\n",
            "Enter your guess: 50\n",
            "Too high. Try again.\n",
            "Enter your guess: 25\n",
            "Too low. Try again.\n",
            "Enter your guess: 40\n",
            "Too low. Try again.\n",
            "Enter your guess: 45\n",
            "Too low. Try again.\n",
            "Enter your guess: 48\n",
            "Too high. Try again.\n",
            "Sorry, you've run out of attempts. The correct number was: 46\n",
            "You lost 100 bath\n"
          ]
        }
      ]
    },
    {
      "cell_type": "markdown",
      "source": [
        "**Pandas**"
      ],
      "metadata": {
        "id": "K9ONqPGGUYXQ"
      }
    },
    {
      "cell_type": "code",
      "source": [
        "#exersise\n",
        "import pandas as pd\n",
        "pd.__version__\n",
        "\n",
        "data1 = [\n",
        "    ['Alice', 25, 'Engineer', 'USA'],\n",
        "    ['Bob', 30, 'Data Scientist', 'Canada'],\n",
        "    ['Charlie', 22, 'Student', 'UK'],\n",
        "    ['David', 35, 'Doctor', 'Germany'],\n",
        "    ['Eva', 28, 'Artist', 'France'],\n",
        "]\n",
        "\n",
        "columns = ['Name', 'Age', 'Occupation', 'Country']\n",
        "df1 = pd.DataFrame(data1, columns=columns)\n",
        "print(df1)"
      ],
      "metadata": {
        "id": "W3G8XsqZUa-m",
        "colab": {
          "base_uri": "https://localhost:8080/"
        },
        "outputId": "2b9f2056-7fd0-431c-9ef8-2b6e40209fac"
      },
      "execution_count": null,
      "outputs": [
        {
          "output_type": "stream",
          "name": "stdout",
          "text": [
            "      Name  Age      Occupation  Country\n",
            "0    Alice   25        Engineer      USA\n",
            "1      Bob   30  Data Scientist   Canada\n",
            "2  Charlie   22         Student       UK\n",
            "3    David   35          Doctor  Germany\n",
            "4      Eva   28          Artist   France\n"
          ]
        }
      ]
    },
    {
      "cell_type": "code",
      "source": [
        "data2 = {\n",
        "    \"calories\": [420, 380, 390, 350, 400],\n",
        "    \"duration\": [50, 40, 45, 35, 42],\n",
        "    \"distance\": [5.0, 4.5, 4.8, 3.7, 4.2],\n",
        "    \"heartrate\": [120, 110, 115, 105, 118],\n",
        "    \"steps\": [8000, 7500, 7800, 7000, 8200]\n",
        "}\n",
        "\n",
        "df2 = pd.DataFrame(data2)\n",
        "#print(df2)\n",
        "\n",
        "print(df2.loc[0])\n",
        "df2.to_csv('data.csv', index=False)\n",
        "\n",
        "print(\"CSV file created successfully.\")"
      ],
      "metadata": {
        "id": "XdgFWnrRBTcm",
        "colab": {
          "base_uri": "https://localhost:8080/"
        },
        "outputId": "6dde1b0b-21bc-4bea-8b7e-109425a54251"
      },
      "execution_count": null,
      "outputs": [
        {
          "output_type": "stream",
          "name": "stdout",
          "text": [
            "calories      420.0\n",
            "duration       50.0\n",
            "distance        5.0\n",
            "heartrate     120.0\n",
            "steps        8000.0\n",
            "Name: 0, dtype: float64\n",
            "CSV file created successfully.\n"
          ]
        }
      ]
    },
    {
      "cell_type": "code",
      "source": [
        "df = pd.read_csv('data.csv')\n",
        "\n",
        "print(df)\n",
        "print(df.head(2))\n",
        "print(df.info())"
      ],
      "metadata": {
        "id": "V7oQfM2PCEWz",
        "colab": {
          "base_uri": "https://localhost:8080/"
        },
        "outputId": "73f67638-6419-47f1-80d3-a7e436c60c79"
      },
      "execution_count": null,
      "outputs": [
        {
          "output_type": "stream",
          "name": "stdout",
          "text": [
            "   calories  duration  distance  heartrate  steps\n",
            "0       420        50       5.0        120   8000\n",
            "1       380        40       4.5        110   7500\n",
            "2       390        45       4.8        115   7800\n",
            "3       350        35       3.7        105   7000\n",
            "4       400        42       4.2        118   8200\n",
            "   calories  duration  distance  heartrate  steps\n",
            "0       420        50       5.0        120   8000\n",
            "1       380        40       4.5        110   7500\n",
            "<class 'pandas.core.frame.DataFrame'>\n",
            "RangeIndex: 5 entries, 0 to 4\n",
            "Data columns (total 5 columns):\n",
            " #   Column     Non-Null Count  Dtype  \n",
            "---  ------     --------------  -----  \n",
            " 0   calories   5 non-null      int64  \n",
            " 1   duration   5 non-null      int64  \n",
            " 2   distance   5 non-null      float64\n",
            " 3   heartrate  5 non-null      int64  \n",
            " 4   steps      5 non-null      int64  \n",
            "dtypes: float64(1), int64(4)\n",
            "memory usage: 328.0 bytes\n",
            "None\n"
          ]
        }
      ]
    },
    {
      "cell_type": "code",
      "source": [
        "#problems\n",
        "import pandas as pd\n",
        "data3 = {\n",
        "    \"Even Num\" :[2, 4, 6],\n",
        "    \"Odd Num\" :[1, 3, 5],\n",
        "    \"Lucky Num\" :[18, 6 ,4]\n",
        "}\n",
        "\n",
        "df3 = pd.DataFrame(data3)\n",
        "df3.to_csv('data3.csv', index=False)\n",
        "\n",
        "df3 = pd.read_csv('data3.csv')\n",
        "print(df3)\n",
        "print(df3.info())"
      ],
      "metadata": {
        "id": "gdFBHPagUbCy"
      },
      "execution_count": null,
      "outputs": []
    },
    {
      "cell_type": "code",
      "source": [],
      "metadata": {
        "id": "6GE0lWWHP0Ab"
      },
      "execution_count": null,
      "outputs": []
    }
  ]
}